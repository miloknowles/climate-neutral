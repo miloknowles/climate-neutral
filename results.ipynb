{
 "cells": [
  {
   "cell_type": "markdown",
   "metadata": {},
   "source": [
    "# Carbon Offset Analysis\n",
    "\n",
    "- How much are companies paying for their offsets?"
   ]
  },
  {
   "cell_type": "code",
   "execution_count": 9,
   "metadata": {},
   "outputs": [],
   "source": [
    "import pandas as pd\n",
    "import plotly.express as px\n",
    "import json"
   ]
  },
  {
   "cell_type": "code",
   "execution_count": 2,
   "metadata": {},
   "outputs": [
    {
     "data": {
      "text/html": [
       "<div>\n",
       "<style scoped>\n",
       "    .dataframe tbody tr th:only-of-type {\n",
       "        vertical-align: middle;\n",
       "    }\n",
       "\n",
       "    .dataframe tbody tr th {\n",
       "        vertical-align: top;\n",
       "    }\n",
       "\n",
       "    .dataframe thead th {\n",
       "        text-align: right;\n",
       "    }\n",
       "</style>\n",
       "<table border=\"1\" class=\"dataframe\">\n",
       "  <thead>\n",
       "    <tr style=\"text-align: right;\">\n",
       "      <th></th>\n",
       "      <th>name</th>\n",
       "      <th>url</th>\n",
       "      <th>scope_1</th>\n",
       "      <th>scope_2</th>\n",
       "      <th>scope_3</th>\n",
       "      <th>total_offset_expenditure</th>\n",
       "      <th>total_offsets_tons_co2</th>\n",
       "      <th>price_per_ton</th>\n",
       "    </tr>\n",
       "  </thead>\n",
       "  <tbody>\n",
       "    <tr>\n",
       "      <th>0</th>\n",
       "      <td>5DayDeal</td>\n",
       "      <td>https://www.climateneutral.org/brand/5daydeal</td>\n",
       "      <td>0.0</td>\n",
       "      <td>73.0</td>\n",
       "      <td>132.0</td>\n",
       "      <td>2682.10</td>\n",
       "      <td>206.0</td>\n",
       "      <td>13.019903</td>\n",
       "    </tr>\n",
       "    <tr>\n",
       "      <th>1</th>\n",
       "      <td>686</td>\n",
       "      <td>https://www.climateneutral.org/brand/686</td>\n",
       "      <td>2.0</td>\n",
       "      <td>5.0</td>\n",
       "      <td>27282.0</td>\n",
       "      <td>90057.00</td>\n",
       "      <td>27290.0</td>\n",
       "      <td>3.300000</td>\n",
       "    </tr>\n",
       "    <tr>\n",
       "      <th>2</th>\n",
       "      <td>Acumatica</td>\n",
       "      <td>https://www.climateneutral.org/brand/acumatica</td>\n",
       "      <td>65.0</td>\n",
       "      <td>53.0</td>\n",
       "      <td>1620.0</td>\n",
       "      <td>29515.00</td>\n",
       "      <td>2780.0</td>\n",
       "      <td>10.616906</td>\n",
       "    </tr>\n",
       "    <tr>\n",
       "      <th>3</th>\n",
       "      <td>Adanac Tech</td>\n",
       "      <td>https://www.climateneutral.org/brand/adanactech</td>\n",
       "      <td>1.0</td>\n",
       "      <td>11.0</td>\n",
       "      <td>13.0</td>\n",
       "      <td>200.00</td>\n",
       "      <td>25.0</td>\n",
       "      <td>8.000000</td>\n",
       "    </tr>\n",
       "    <tr>\n",
       "      <th>4</th>\n",
       "      <td>AdMixt</td>\n",
       "      <td>https://www.climateneutral.org/brand/admixt</td>\n",
       "      <td>21.0</td>\n",
       "      <td>73.0</td>\n",
       "      <td>56.0</td>\n",
       "      <td>1692.50</td>\n",
       "      <td>151.0</td>\n",
       "      <td>11.208609</td>\n",
       "    </tr>\n",
       "    <tr>\n",
       "      <th>...</th>\n",
       "      <td>...</td>\n",
       "      <td>...</td>\n",
       "      <td>...</td>\n",
       "      <td>...</td>\n",
       "      <td>...</td>\n",
       "      <td>...</td>\n",
       "      <td>...</td>\n",
       "      <td>...</td>\n",
       "    </tr>\n",
       "    <tr>\n",
       "      <th>320</th>\n",
       "      <td>XCoSports</td>\n",
       "      <td>https://www.climateneutral.org/brand/xcosports</td>\n",
       "      <td>67.0</td>\n",
       "      <td>0.0</td>\n",
       "      <td>766.0</td>\n",
       "      <td>6664.00</td>\n",
       "      <td>833.0</td>\n",
       "      <td>8.000000</td>\n",
       "    </tr>\n",
       "    <tr>\n",
       "      <th>321</th>\n",
       "      <td>YAMA Mountain Gear</td>\n",
       "      <td>https://www.climateneutral.org/brand/yama-moun...</td>\n",
       "      <td>1.0</td>\n",
       "      <td>6.0</td>\n",
       "      <td>28.0</td>\n",
       "      <td>442.00</td>\n",
       "      <td>35.0</td>\n",
       "      <td>12.628571</td>\n",
       "    </tr>\n",
       "    <tr>\n",
       "      <th>322</th>\n",
       "      <td>zkipster</td>\n",
       "      <td>https://www.climateneutral.org/brand/zkipster</td>\n",
       "      <td>7.0</td>\n",
       "      <td>1.0</td>\n",
       "      <td>253.0</td>\n",
       "      <td>3120.00</td>\n",
       "      <td>260.0</td>\n",
       "      <td>12.000000</td>\n",
       "    </tr>\n",
       "    <tr>\n",
       "      <th>323</th>\n",
       "      <td>Zuar</td>\n",
       "      <td>https://www.climateneutral.org/brand/zuar</td>\n",
       "      <td>7.0</td>\n",
       "      <td>89.0</td>\n",
       "      <td>340.0</td>\n",
       "      <td>3153.75</td>\n",
       "      <td>435.0</td>\n",
       "      <td>7.250000</td>\n",
       "    </tr>\n",
       "    <tr>\n",
       "      <th>324</th>\n",
       "      <td>Zusa</td>\n",
       "      <td>https://www.climateneutral.org/brand/zusa</td>\n",
       "      <td>0.0</td>\n",
       "      <td>0.0</td>\n",
       "      <td>123.0</td>\n",
       "      <td>988.90</td>\n",
       "      <td>124.0</td>\n",
       "      <td>7.975000</td>\n",
       "    </tr>\n",
       "  </tbody>\n",
       "</table>\n",
       "<p>325 rows × 8 columns</p>\n",
       "</div>"
      ],
      "text/plain": [
       "                   name                                                url  \\\n",
       "0              5DayDeal      https://www.climateneutral.org/brand/5daydeal   \n",
       "1                   686           https://www.climateneutral.org/brand/686   \n",
       "2             Acumatica     https://www.climateneutral.org/brand/acumatica   \n",
       "3           Adanac Tech    https://www.climateneutral.org/brand/adanactech   \n",
       "4                AdMixt        https://www.climateneutral.org/brand/admixt   \n",
       "..                  ...                                                ...   \n",
       "320           XCoSports     https://www.climateneutral.org/brand/xcosports   \n",
       "321  YAMA Mountain Gear  https://www.climateneutral.org/brand/yama-moun...   \n",
       "322            zkipster      https://www.climateneutral.org/brand/zkipster   \n",
       "323                Zuar          https://www.climateneutral.org/brand/zuar   \n",
       "324                Zusa          https://www.climateneutral.org/brand/zusa   \n",
       "\n",
       "     scope_1  scope_2  scope_3  total_offset_expenditure  \\\n",
       "0        0.0     73.0    132.0                   2682.10   \n",
       "1        2.0      5.0  27282.0                  90057.00   \n",
       "2       65.0     53.0   1620.0                  29515.00   \n",
       "3        1.0     11.0     13.0                    200.00   \n",
       "4       21.0     73.0     56.0                   1692.50   \n",
       "..       ...      ...      ...                       ...   \n",
       "320     67.0      0.0    766.0                   6664.00   \n",
       "321      1.0      6.0     28.0                    442.00   \n",
       "322      7.0      1.0    253.0                   3120.00   \n",
       "323      7.0     89.0    340.0                   3153.75   \n",
       "324      0.0      0.0    123.0                    988.90   \n",
       "\n",
       "     total_offsets_tons_co2  price_per_ton  \n",
       "0                     206.0      13.019903  \n",
       "1                   27290.0       3.300000  \n",
       "2                    2780.0      10.616906  \n",
       "3                      25.0       8.000000  \n",
       "4                     151.0      11.208609  \n",
       "..                      ...            ...  \n",
       "320                   833.0       8.000000  \n",
       "321                    35.0      12.628571  \n",
       "322                   260.0      12.000000  \n",
       "323                   435.0       7.250000  \n",
       "324                   124.0       7.975000  \n",
       "\n",
       "[325 rows x 8 columns]"
      ]
     },
     "execution_count": 2,
     "metadata": {},
     "output_type": "execute_result"
    }
   ],
   "source": [
    "results_file = \"data/results_326.csv\"\n",
    "\n",
    "df = pd.read_csv(results_file)\n",
    "\n",
    "# Calculate the average carbon offset price they paid.\n",
    "df[\"price_per_ton\"] = df.total_offset_expenditure / df.total_offsets_tons_co2\n",
    "df"
   ]
  },
  {
   "cell_type": "code",
   "execution_count": 3,
   "metadata": {},
   "outputs": [
    {
     "data": {
      "application/vnd.plotly.v1+json": {
       "config": {
        "plotlyServerURL": "https://plot.ly"
       },
       "data": [
        {
         "customdata": [
          [
           "5DayDeal"
          ],
          [
           "686"
          ],
          [
           "Acumatica"
          ],
          [
           "Adanac Tech"
          ],
          [
           "AdMixt"
          ],
          [
           "advene"
          ],
          [
           "All Good"
          ],
          [
           "Allbirds"
          ],
          [
           "Alliance Trading Group"
          ],
          [
           "ALOHA"
          ],
          [
           "Alpine Fit"
          ],
          [
           "Alpine Start, Inc."
          ],
          [
           "Alter Eco"
          ],
          [
           "Amika"
          ],
          [
           "Ana Luisa"
          ],
          [
           "Ananday"
          ],
          [
           "Ancient + Brave"
          ],
          [
           "&BACK COFFEE"
          ],
          [
           "Angel Chang LLC"
          ],
          [
           "Another Tomorrow"
          ],
          [
           "Appalachian Gap Distillery"
          ],
          [
           "Aquila's Nest Vineyards"
          ],
          [
           "Athletic Greens"
          ],
          [
           "August"
          ],
          [
           "AUVA Certification Limited"
          ],
          [
           "Avocado Green Brands"
          ],
          [
           "Backbone Media"
          ],
          [
           "Backdrop"
          ],
          [
           "Balega"
          ],
          [
           "Bambu"
          ],
          [
           "Baobab Foods"
          ],
          [
           "Barrett Dixon Bell Limited"
          ],
          [
           "Bayrli"
          ],
          [
           "Be Ultimate"
          ],
          [
           "Beam"
          ],
          [
           "Beco"
          ],
          [
           "Become Current PBC"
          ],
          [
           "Belong Wines"
          ],
          [
           "BIO RAW INC."
          ],
          [
           "Biome"
          ],
          [
           "Blackfish Ventures LLC"
          ],
          [
           "BLDG Active"
          ],
          [
           "Bloobloom"
          ],
          [
           "Blossom Coffee Roasters"
          ],
          [
           "Blue Dot Way, LLC"
          ],
          [
           "Blue Planet Outdoors"
          ],
          [
           "Blueland"
          ],
          [
           "BlueStar Marketing, LLC"
          ],
          [
           "Bona Furtuna N.A."
          ],
          [
           "Bondi Born"
          ],
          [
           "Bonterra"
          ],
          [
           "bookshop.org"
          ],
          [
           "Boonboo"
          ],
          [
           "Booth & Partners"
          ],
          [
           "Botanica Wines"
          ],
          [
           "Bread Alone Bakery"
          ],
          [
           "Brook Farm Veterinary Center"
          ],
          [
           "Bronwen Jewelry LLC"
          ],
          [
           "BRUNA the Label"
          ],
          [
           "Bud Light NEXT"
          ],
          [
           "By Rosie Jane"
          ],
          [
           "Calgee"
          ],
          [
           "CAMP Eyewear"
          ],
          [
           "Canary Marketing"
          ],
          [
           "Cape Clasp"
          ],
          [
           "Cariloop"
          ],
          [
           "Ceremonia"
          ],
          [
           "ChicoEco, Inc"
          ],
          [
           "CHNGE"
          ],
          [
           "Chris Burkard Studio"
          ],
          [
           "CLIF Kid"
          ],
          [
           "Climate Neutral"
          ],
          [
           "Clove & Twine"
          ],
          [
           "Collective Logistics"
          ],
          [
           "Collins Hume"
          ],
          [
           "Common Heir"
          ],
          [
           "Consolidare Wealth Management Ltd"
          ],
          [
           "Convert"
          ],
          [
           "Coracao Confections"
          ],
          [
           "Cotopaxi"
          ],
          [
           "COUNSEL"
          ],
          [
           "Creative Solutions"
          ],
          [
           "DeeBee's Organics"
          ],
          [
           "Della Terra"
          ],
          [
           "Denomination"
          ],
          [
           "DEPTÂ®"
          ],
          [
           "Dermatone Labs, LLC"
          ],
          [
           "Dewerstone"
          ],
          [
           "Dimagi"
          ],
          [
           "DoThings"
          ],
          [
           "Earth Harbor Naturals"
          ],
          [
           "EarthHero"
          ],
          [
           "EarthKind, LLC"
          ],
          [
           "Elizabeth Suzann, LLC"
          ],
          [
           "Elm Organics Norway"
          ],
          [
           "Emikeni"
          ],
          [
           "Engedi Salon"
          ],
          [
           "EthicDrinks"
          ],
          [
           "ettitude"
          ],
          [
           "Eva-NYC"
          ],
          [
           "Everoot Consulting"
          ],
          [
           "Everywhere Apparel, Inc"
          ],
          [
           "Evolution Service Corp"
          ],
          [
           "ExquisiteCrystals.com LLC"
          ],
          [
           "F Bass Inc."
          ],
          [
           "Falcon Engineering"
          ],
          [
           "Fireclay Tile"
          ],
          [
           "Firma"
          ],
          [
           "Fjorden"
          ],
          [
           "Flaik"
          ],
          [
           "Flickr"
          ],
          [
           "Flint"
          ],
          [
           "Flooret"
          ],
          [
           "Fluf Textile Goods Inc."
          ],
          [
           "Foehn Clothing"
          ],
          [
           "Form"
          ],
          [
           "Forsake"
          ],
          [
           "FUSION Performance Group"
          ],
          [
           "GEARTRADE"
          ],
          [
           "Gifts for Good"
          ],
          [
           "GLIDE"
          ],
          [
           "Glow Recipe"
          ],
          [
           "Good Clean Love"
          ],
          [
           "Good Good Good"
          ],
          [
           "Goodee"
          ],
          [
           "goodr"
          ],
          [
           "Gorilla Computing GmbH"
          ],
          [
           "Grain"
          ],
          [
           "Graphene X"
          ],
          [
           "GrowthJet"
          ],
          [
           "Happy Earth LLC"
          ],
          [
           "Heady"
          ],
          [
           "HigherRing, Inc."
          ],
          [
           "Hikers Brew Coffee"
          ],
          [
           "Hitch"
          ],
          [
           "Holden Rings"
          ],
          [
           "Hune"
          ],
          [
           "Ibex"
          ],
          [
           "ICEBUG"
          ],
          [
           "IM Digital"
          ],
          [
           "INC Architecture & Design"
          ],
          [
           "Infinum"
          ],
          [
           "Innersense Organic Beauty"
          ],
          [
           "iota"
          ],
          [
           "JADE Swim"
          ],
          [
           "Jiant"
          ],
          [
           "Jikoni"
          ],
          [
           "Joobwear"
          ],
          [
           "JuneShine"
          ],
          [
           "Kala & Mata"
          ],
          [
           "Kammok"
          ],
          [
           "Kate McLeod"
          ],
          [
           "KBS Pets"
          ],
          [
           "Keeper Denim"
          ],
          [
           "Kenna Group"
          ],
          [
           "KENT"
          ],
          [
           "Kickstarter"
          ],
          [
           "Kindhumans"
          ],
          [
           "Kindship Group"
          ],
          [
           "Klean Kanteen"
          ],
          [
           "Knowmium"
          ],
          [
           "Koos Service Design"
          ],
          [
           "KORA Organics"
          ],
          [
           "KORARU"
          ],
          [
           "KraveBeauty"
          ],
          [
           "La Honda Winery"
          ],
          [
           "La Sportiva N.A."
          ],
          [
           "Laid Back Snacks Inc."
          ],
          [
           "Laumiere Gourmet Fruits"
          ],
          [
           "Leaf Shave"
          ],
          [
           "Le.mu"
          ],
          [
           "LifeStraw"
          ],
          [
           "Live Story Inc"
          ],
          [
           "Lomond Coffee Ltd"
          ],
          [
           "loqa"
          ],
          [
           "Lubanzi Wines"
          ],
          [
           "Made Trade"
          ],
          [
           "Maison Louis Marie"
          ],
          [
           "Mananalu"
          ],
          [
           "Mantra"
          ],
          [
           "Marine Agency Corp"
          ],
          [
           "Marnie Hawson"
          ],
          [
           "Mast Furniture"
          ],
          [
           "MATE the Label"
          ],
          [
           "Memori"
          ],
          [
           "MiiR"
          ],
          [
           "MindEdge"
          ],
          [
           "Minty Made"
          ],
          [
           "Modern Adventure"
          ],
          [
           "Modern Standard Coffee"
          ],
          [
           "Molly Mutt"
          ],
          [
           "Monos"
          ],
          [
           "MyHEAT"
          ],
          [
           "NAAWA CONSULTING"
          ],
          [
           "Nanimarquina"
          ],
          [
           "Natural Learning Northwest"
          ],
          [
           "Necessaire"
          ],
          [
           "Needed"
          ],
          [
           "New Sprout Organic Farms, LLC"
          ],
          [
           "Nimble"
          ],
          [
           "Nisolo"
          ],
          [
           "Nocs"
          ],
          [
           "Nomad"
          ],
          [
           "NOMADIX"
          ],
          [
           "Numi Organic Tea"
          ],
          [
           "Nuun"
          ],
          [
           "NW Commonwealth LLC"
          ],
          [
           "O2 Recovery Drink"
          ],
          [
           "Ocio Leisurewear"
          ],
          [
           "Omnia 1 Analytics"
          ],
          [
           "Once Films"
          ],
          [
           "Open Water"
          ],
          [
           "Orbitkey"
          ],
          [
           "Ornot"
          ],
          [
           "OSEA Malibu"
          ],
          [
           "Outer Shell"
          ],
          [
           "Oxygen Plus, Inc."
          ],
          [
           "P.F. Candle Co."
          ],
          [
           "Pacific Watch Co"
          ],
          [
           "Pamela Love"
          ],
          [
           "Parachute Home"
          ],
          [
           "Paravel"
          ],
          [
           "Peak Design"
          ],
          [
           "Pela"
          ],
          [
           "Perr & Knight Consulting"
          ],
          [
           "Petaluma"
          ],
          [
           "Pine & Palm Home"
          ],
          [
           "Planet+Purpose Solutions"
          ],
          [
           "Point B"
          ],
          [
           "PopSockets"
          ],
          [
           "Post Company"
          ],
          [
           "Project Reef"
          ],
          [
           "Prose"
          ],
          [
           "PROVEN Partners"
          ],
          [
           "Pure Project"
          ],
          [
           "Purps"
          ],
          [
           "QEJA SOCKS"
          ],
          [
           "Rainbo"
          ],
          [
           "REBO Bottle"
          ],
          [
           "Reformation"
          ],
          [
           "REI"
          ],
          [
           "Renoun"
          ],
          [
           "Rep Your Water"
          ],
          [
           "Rhoback, INC"
          ],
          [
           "Rizos Curls"
          ],
          [
           "RoAndCo"
          ],
          [
           "Rocky Talkie"
          ],
          [
           "Rumpl"
          ],
          [
           "rygr"
          ],
          [
           "Saie"
          ],
          [
           "salty aura"
          ],
          [
           "Salvona"
          ],
          [
           "saucybean"
          ],
          [
           "SAYLOR NYC INC"
          ],
          [
           "Scout Books"
          ],
          [
           "Seadon"
          ],
          [
           "Season Eqpt"
          ],
          [
           "Seed Phytonutrients"
          ],
          [
           "Sendle"
          ],
          [
           "Sensiba"
          ],
          [
           "Sevilla Smith"
          ],
          [
           "ShÄr"
          ],
          [
           "Simple & Dainty"
          ],
          [
           "Simpleswitch.org"
          ],
          [
           "Ski Butlers"
          ],
          [
           "Ski Utah"
          ],
          [
           "SmugMug"
          ],
          [
           "Snaplinc Consulting"
          ],
          [
           "Soar Organics"
          ],
          [
           "Soleil Soleil"
          ],
          [
           "Someone Somewhere"
          ],
          [
           "Sozy"
          ],
          [
           "Standart"
          ],
          [
           "StatusGator"
          ],
          [
           "Sterling Rope"
          ],
          [
           "Stickbulb"
          ],
          [
           "Stio"
          ],
          [
           "Stranda Snowboards"
          ],
          [
           "Stubble and Co."
          ],
          [
           "Summit Coffee Roasting Co."
          ],
          [
           "Sunday Afternoons"
          ],
          [
           "Sunday Beer Co."
          ],
          [
           "Sunski"
          ],
          [
           "Supercharge Ltd"
          ],
          [
           "Sustainability Accelerator"
          ],
          [
           "Sutsu"
          ],
          [
           "Tandem Coffee"
          ],
          [
           "TECODA"
          ],
          [
           "tentree"
          ],
          [
           "Thatcher"
          ],
          [
           "The Chris Bertish Foundation"
          ],
          [
           "The Cushion Lab"
          ],
          [
           "The Disruption Society"
          ],
          [
           "The Earthling Co."
          ],
          [
           "The Longest Thread"
          ],
          [
           "The Resell Club"
          ],
          [
           "The Scrubba"
          ],
          [
           "thinkPARALLAX"
          ],
          [
           "Thrive Market"
          ],
          [
           "Topiku"
          ],
          [
           "TOPO Collective"
          ],
          [
           "Tripulse"
          ],
          [
           "True North Gear"
          ],
          [
           "Untold Storytelling"
          ],
          [
           "Vahdam Teas"
          ],
          [
           "Vargo Outdoors"
          ],
          [
           "Vincero"
          ],
          [
           "Vintner's Daughter"
          ],
          [
           "Vuori"
          ],
          [
           "Walrus Oil"
          ],
          [
           "west~bourne"
          ],
          [
           "Whitewater Brewing"
          ],
          [
           "Wild Elements"
          ],
          [
           "Wild Rye"
          ],
          [
           "WILDFANG"
          ],
          [
           "Wildway"
          ],
          [
           "Will's Vegan Store"
          ],
          [
           "Wingback Ltd"
          ],
          [
           "Wolven"
          ],
          [
           "WOODSANDWAVES"
          ],
          [
           "XCoSports"
          ],
          [
           "YAMA Mountain Gear"
          ],
          [
           "zkipster"
          ],
          [
           "Zuar"
          ],
          [
           "Zusa"
          ]
         ],
         "hovertemplate": "tons CO₂ offset (2022)=%{x}<br>$ / ton=%{y}<br>name=%{customdata[0]}<extra></extra>",
         "legendgroup": "",
         "marker": {
          "color": "#636efa",
          "symbol": "circle"
         },
         "mode": "markers",
         "name": "",
         "orientation": "v",
         "showlegend": false,
         "type": "scatter",
         "x": [
          206,
          27290,
          2780,
          25,
          151,
          137,
          4000,
          40964,
          90,
          5828,
          135,
          325,
          5786,
          8849,
          3885,
          32,
          274,
          60,
          4,
          1557,
          89,
          200,
          92536,
          1936,
          19,
          32751,
          412,
          592,
          5969,
          1153,
          361,
          150,
          8,
          246,
          18103,
          2398,
          138,
          39,
          494,
          36,
          645,
          1884,
          160,
          168,
          8,
          24,
          13205,
          113,
          342,
          604,
          10205,
          626,
          9,
          800,
          255,
          2421,
          300,
          210,
          1133,
          18566,
          385,
          92,
          475,
          2709,
          231,
          710,
          1887,
          691,
          1253,
          88,
          27559,
          43,
          352,
          18,
          61,
          783,
          3,
          181,
          998,
          13859,
          546,
          1682,
          4000,
          90,
          229,
          11113,
          260,
          141,
          938,
          102,
          56,
          322,
          3068,
          83,
          189,
          355,
          329,
          500,
          1922,
          6188,
          11,
          287,
          43,
          165,
          144,
          154,
          10885,
          155,
          566,
          700,
          163,
          20,
          9921,
          365,
          356,
          38,
          2670,
          110,
          104,
          82,
          117,
          49923,
          4676,
          34,
          31,
          24024,
          80,
          109,
          227,
          209,
          402,
          117,
          158,
          12,
          295,
          1772,
          82,
          709,
          5300,
          440,
          216,
          863,
          2886,
          99,
          172,
          2668,
          60,
          7,
          12500,
          151,
          3080,
          1119,
          493,
          2,
          614,
          27,
          559,
          8,
          18,
          6304,
          119,
          356,
          2986,
          180,
          767,
          161,
          20418,
          558,
          88,
          384,
          328,
          5226,
          63,
          11,
          18,
          527,
          295,
          1069,
          1014,
          2150,
          144,
          25,
          264,
          1261,
          1064,
          13151,
          282,
          8,
          511,
          87,
          1900,
          31384,
          78,
          12,
          3153,
          3,
          3834,
          1430,
          3094,
          1327,
          4499,
          1011,
          4951,
          776,
          2844,
          15437,
          32124,
          2116,
          100,
          59,
          80,
          5000,
          4410,
          980,
          7624,
          102,
          2177,
          1902,
          5,
          1138,
          23177,
          6723,
          31837,
          3744,
          450,
          312,
          27,
          36,
          6192,
          8946,
          212,
          259,
          15328,
          27,
          989,
          156,
          11,
          529,
          828,
          36822,
          320300,
          218,
          1960,
          7719,
          2920,
          364,
          1629,
          9526,
          112,
          10669,
          133,
          2498,
          109,
          2322,
          100,
          70,
          169,
          274,
          7000,
          1259,
          52,
          131,
          268,
          9,
          763,
          116,
          2495,
          18,
          40,
          53,
          1367,
          434,
          152,
          25,
          4478,
          257,
          7609,
          181,
          1482,
          564,
          4260,
          60,
          1252,
          584,
          12,
          1126,
          1473,
          44,
          14000,
          469,
          2,
          1004,
          17,
          686,
          84,
          28,
          672,
          386,
          47500,
          64,
          11,
          21,
          3317,
          90,
          2765,
          1340,
          2397,
          933,
          63248,
          800,
          421,
          897,
          273,
          1597,
          4404,
          312,
          930,
          246,
          981,
          76,
          833,
          35,
          260,
          435,
          124
         ],
         "xaxis": "x",
         "y": [
          13.019902912621358,
          3.3,
          10.616906474820144,
          8,
          11.208609271523178,
          5.25,
          4,
          9.070598574357973,
          14.6,
          6.927590940288264,
          6.842592592592593,
          6.5,
          11.564293121327342,
          9.011752740422647,
          5.629861003861003,
          8.590625,
          14.25,
          16.746,
          19.38,
          20.63,
          20.359550561797754,
          7,
          2.51625,
          12.887784090909092,
          7.25,
          6.839363683551647,
          14,
          9.5,
          10.200000000000001,
          8.65134431916739,
          9.5,
          12,
          13.5,
          7.25,
          12.20002209578523,
          12.3,
          11.956521739130435,
          13.59,
          12,
          10,
          6.5,
          9.01,
          6.5200000000000005,
          9.94047619047619,
          34.15625,
          10.5,
          7.468951154865581,
          7.25,
          8.275555555555554,
          9.9,
          10.974267515923566,
          9.5,
          14.5,
          14.5,
          11.25,
          14,
          14.083333333333334,
          11.941666666666666,
          11.184466019417476,
          15.599999999999998,
          13.909090909090908,
          6.989130434782608,
          8,
          7.777139165743817,
          8,
          15.5,
          6,
          3,
          7.596169193934557,
          9.915681818181818,
          11.524003048006096,
          8.160465116279068,
          28.698636363636364,
          8,
          7.807377049180328,
          7.25,
          13.5,
          6,
          9.67304609218437,
          9.009452341438775,
          19.876007326007326,
          2.35,
          13.7225,
          9.883333333333333,
          11,
          16.010442724736794,
          11.337307692307691,
          8,
          8.027292110874201,
          12.25,
          9.633928571428571,
          13.622670807453416,
          9.5,
          10.795180722891565,
          10.57,
          9.5,
          6.279999999999999,
          11.3,
          22,
          8.843406593406593,
          14.25,
          7.973658536585366,
          12,
          14.25,
          8.75,
          30,
          5.55,
          10.704064516129034,
          10,
          15.5,
          19.63,
          9.515,
          10.878338877129321,
          8.784246575342467,
          12,
          7,
          17.130337078651685,
          7.5,
          12,
          14.375,
          13.173076923076923,
          6.069115237465697,
          12.5,
          10,
          14.25,
          10.275224775224775,
          11.9375,
          7.42,
          9.16,
          7.25,
          7.427313432835821,
          20.444444444444443,
          9.936708860759493,
          21,
          6.5,
          6,
          6.9939024390243905,
          5,
          6.4,
          10.375,
          17.453703703703702,
          8.020857473928158,
          9.765246015246015,
          7.583030303030303,
          9.5,
          4.95,
          17.611666666666668,
          23.69,
          7.704,
          35,
          7,
          9.748212689901697,
          7.853448275862069,
          13.59,
          7,
          14.833333333333334,
          19.077549194991057,
          14.5,
          12.378888888888888,
          7.872303299492386,
          8,
          14,
          14.03985264567984,
          9.1,
          10,
          8,
          6.0182290136154375,
          9.5,
          13.5,
          10,
          6.5,
          17,
          25,
          9.5,
          7,
          14.25,
          7.25,
          7.25,
          10.3698224852071,
          8.38953488372093,
          19.62,
          14.35,
          5.75,
          8,
          9.5,
          12.029853243099385,
          9.5,
          11.71875,
          11.496575342465754,
          6.5,
          8.894736842105264,
          13.149999999999999,
          12.272051282051283,
          7.25,
          5.25,
          7,
          16.761606677099635,
          6.5,
          5.40158371040724,
          9.795968349660889,
          13.5,
          8.897626112759644,
          6.303978994142597,
          8.02061855670103,
          12.458860759493671,
          8.100019433827816,
          5.339216784958286,
          9.116257088846881,
          11.3213,
          9.317796610169491,
          6.5,
          8.15,
          8.041950113378684,
          7.862244897959184,
          18,
          9.529411764705882,
          6.5,
          8.5,
          14.25,
          6.3466608084358525,
          13.858338007507443,
          11.913877733154841,
          4,
          12.200053418803419,
          19.72222222222222,
          6.5,
          7.361111111111111,
          10,
          11.847464470284237,
          13.595023474178404,
          8,
          14.6,
          12,
          16.805555555555557,
          8,
          13.514358974358974,
          14.227272727272727,
          12,
          9.5,
          7.148039758839824,
          3.5726451763971276,
          7.25,
          7.7415816326530615,
          5.800103640367923,
          9.5,
          7.91478021978022,
          13.713321055862492,
          10.876810833508292,
          20.839285714285715,
          10.697684881432187,
          11.242481203007518,
          12,
          9.55,
          10.050602928509905,
          7.25,
          7.25,
          9.970414201183432,
          9.186131386861314,
          27.228571428571428,
          15.216838760921366,
          14.5,
          16.566412213740456,
          10,
          14.25,
          12,
          38,
          19.63,
          14.5,
          10,
          10.69811320754717,
          9.5,
          12,
          12.029605263157896,
          33.92,
          10.05806163465833,
          10,
          0,
          7,
          9.5,
          10,
          4.97,
          21.4,
          9.501597444089457,
          6.5,
          11.729166666666666,
          3,
          12.43397827562797,
          7.75,
          4.5375,
          8.202025586353944,
          9.5,
          10.6902390438247,
          8,
          7.25,
          13.5,
          6.5,
          8.632440476190476,
          13.59,
          6.236947368421053,
          9.4359375,
          14.5,
          10.507142857142858,
          10,
          11.411111111111111,
          4.15,
          6.15,
          5.5,
          26.75,
          10.608838382241336,
          10,
          11.882422802850357,
          9.5,
          8.76849816849817,
          7.5,
          11.177792915531334,
          6.8076923076923075,
          7.25,
          12.101951219512195,
          9.646788990825687,
          6.2631578947368425,
          8,
          12.628571428571428,
          12,
          7.25,
          7.975
         ],
         "yaxis": "y"
        }
       ],
       "layout": {
        "font": {
         "family": "Proxima Nova"
        },
        "legend": {
         "tracegroupgap": 0
        },
        "shapes": [
         {
          "label": {
           "text": "median price",
           "textposition": "top right"
          },
          "line": {
           "color": "white",
           "dash": "dash",
           "width": 1
          },
          "type": "line",
          "x0": 0,
          "x1": 1,
          "xref": "x domain",
          "y0": 9.883333333333333,
          "y1": 9.883333333333333,
          "yref": "y"
         }
        ],
        "template": {
         "data": {
          "bar": [
           {
            "error_x": {
             "color": "#f2f5fa"
            },
            "error_y": {
             "color": "#f2f5fa"
            },
            "marker": {
             "line": {
              "color": "rgb(17,17,17)",
              "width": 0.5
             },
             "pattern": {
              "fillmode": "overlay",
              "size": 10,
              "solidity": 0.2
             }
            },
            "type": "bar"
           }
          ],
          "barpolar": [
           {
            "marker": {
             "line": {
              "color": "rgb(17,17,17)",
              "width": 0.5
             },
             "pattern": {
              "fillmode": "overlay",
              "size": 10,
              "solidity": 0.2
             }
            },
            "type": "barpolar"
           }
          ],
          "carpet": [
           {
            "aaxis": {
             "endlinecolor": "#A2B1C6",
             "gridcolor": "#506784",
             "linecolor": "#506784",
             "minorgridcolor": "#506784",
             "startlinecolor": "#A2B1C6"
            },
            "baxis": {
             "endlinecolor": "#A2B1C6",
             "gridcolor": "#506784",
             "linecolor": "#506784",
             "minorgridcolor": "#506784",
             "startlinecolor": "#A2B1C6"
            },
            "type": "carpet"
           }
          ],
          "choropleth": [
           {
            "colorbar": {
             "outlinewidth": 0,
             "ticks": ""
            },
            "type": "choropleth"
           }
          ],
          "contour": [
           {
            "colorbar": {
             "outlinewidth": 0,
             "ticks": ""
            },
            "colorscale": [
             [
              0,
              "#0d0887"
             ],
             [
              0.1111111111111111,
              "#46039f"
             ],
             [
              0.2222222222222222,
              "#7201a8"
             ],
             [
              0.3333333333333333,
              "#9c179e"
             ],
             [
              0.4444444444444444,
              "#bd3786"
             ],
             [
              0.5555555555555556,
              "#d8576b"
             ],
             [
              0.6666666666666666,
              "#ed7953"
             ],
             [
              0.7777777777777778,
              "#fb9f3a"
             ],
             [
              0.8888888888888888,
              "#fdca26"
             ],
             [
              1,
              "#f0f921"
             ]
            ],
            "type": "contour"
           }
          ],
          "contourcarpet": [
           {
            "colorbar": {
             "outlinewidth": 0,
             "ticks": ""
            },
            "type": "contourcarpet"
           }
          ],
          "heatmap": [
           {
            "colorbar": {
             "outlinewidth": 0,
             "ticks": ""
            },
            "colorscale": [
             [
              0,
              "#0d0887"
             ],
             [
              0.1111111111111111,
              "#46039f"
             ],
             [
              0.2222222222222222,
              "#7201a8"
             ],
             [
              0.3333333333333333,
              "#9c179e"
             ],
             [
              0.4444444444444444,
              "#bd3786"
             ],
             [
              0.5555555555555556,
              "#d8576b"
             ],
             [
              0.6666666666666666,
              "#ed7953"
             ],
             [
              0.7777777777777778,
              "#fb9f3a"
             ],
             [
              0.8888888888888888,
              "#fdca26"
             ],
             [
              1,
              "#f0f921"
             ]
            ],
            "type": "heatmap"
           }
          ],
          "heatmapgl": [
           {
            "colorbar": {
             "outlinewidth": 0,
             "ticks": ""
            },
            "colorscale": [
             [
              0,
              "#0d0887"
             ],
             [
              0.1111111111111111,
              "#46039f"
             ],
             [
              0.2222222222222222,
              "#7201a8"
             ],
             [
              0.3333333333333333,
              "#9c179e"
             ],
             [
              0.4444444444444444,
              "#bd3786"
             ],
             [
              0.5555555555555556,
              "#d8576b"
             ],
             [
              0.6666666666666666,
              "#ed7953"
             ],
             [
              0.7777777777777778,
              "#fb9f3a"
             ],
             [
              0.8888888888888888,
              "#fdca26"
             ],
             [
              1,
              "#f0f921"
             ]
            ],
            "type": "heatmapgl"
           }
          ],
          "histogram": [
           {
            "marker": {
             "pattern": {
              "fillmode": "overlay",
              "size": 10,
              "solidity": 0.2
             }
            },
            "type": "histogram"
           }
          ],
          "histogram2d": [
           {
            "colorbar": {
             "outlinewidth": 0,
             "ticks": ""
            },
            "colorscale": [
             [
              0,
              "#0d0887"
             ],
             [
              0.1111111111111111,
              "#46039f"
             ],
             [
              0.2222222222222222,
              "#7201a8"
             ],
             [
              0.3333333333333333,
              "#9c179e"
             ],
             [
              0.4444444444444444,
              "#bd3786"
             ],
             [
              0.5555555555555556,
              "#d8576b"
             ],
             [
              0.6666666666666666,
              "#ed7953"
             ],
             [
              0.7777777777777778,
              "#fb9f3a"
             ],
             [
              0.8888888888888888,
              "#fdca26"
             ],
             [
              1,
              "#f0f921"
             ]
            ],
            "type": "histogram2d"
           }
          ],
          "histogram2dcontour": [
           {
            "colorbar": {
             "outlinewidth": 0,
             "ticks": ""
            },
            "colorscale": [
             [
              0,
              "#0d0887"
             ],
             [
              0.1111111111111111,
              "#46039f"
             ],
             [
              0.2222222222222222,
              "#7201a8"
             ],
             [
              0.3333333333333333,
              "#9c179e"
             ],
             [
              0.4444444444444444,
              "#bd3786"
             ],
             [
              0.5555555555555556,
              "#d8576b"
             ],
             [
              0.6666666666666666,
              "#ed7953"
             ],
             [
              0.7777777777777778,
              "#fb9f3a"
             ],
             [
              0.8888888888888888,
              "#fdca26"
             ],
             [
              1,
              "#f0f921"
             ]
            ],
            "type": "histogram2dcontour"
           }
          ],
          "mesh3d": [
           {
            "colorbar": {
             "outlinewidth": 0,
             "ticks": ""
            },
            "type": "mesh3d"
           }
          ],
          "parcoords": [
           {
            "line": {
             "colorbar": {
              "outlinewidth": 0,
              "ticks": ""
             }
            },
            "type": "parcoords"
           }
          ],
          "pie": [
           {
            "automargin": true,
            "type": "pie"
           }
          ],
          "scatter": [
           {
            "marker": {
             "line": {
              "color": "#283442"
             }
            },
            "type": "scatter"
           }
          ],
          "scatter3d": [
           {
            "line": {
             "colorbar": {
              "outlinewidth": 0,
              "ticks": ""
             }
            },
            "marker": {
             "colorbar": {
              "outlinewidth": 0,
              "ticks": ""
             }
            },
            "type": "scatter3d"
           }
          ],
          "scattercarpet": [
           {
            "marker": {
             "colorbar": {
              "outlinewidth": 0,
              "ticks": ""
             }
            },
            "type": "scattercarpet"
           }
          ],
          "scattergeo": [
           {
            "marker": {
             "colorbar": {
              "outlinewidth": 0,
              "ticks": ""
             }
            },
            "type": "scattergeo"
           }
          ],
          "scattergl": [
           {
            "marker": {
             "line": {
              "color": "#283442"
             }
            },
            "type": "scattergl"
           }
          ],
          "scattermapbox": [
           {
            "marker": {
             "colorbar": {
              "outlinewidth": 0,
              "ticks": ""
             }
            },
            "type": "scattermapbox"
           }
          ],
          "scatterpolar": [
           {
            "marker": {
             "colorbar": {
              "outlinewidth": 0,
              "ticks": ""
             }
            },
            "type": "scatterpolar"
           }
          ],
          "scatterpolargl": [
           {
            "marker": {
             "colorbar": {
              "outlinewidth": 0,
              "ticks": ""
             }
            },
            "type": "scatterpolargl"
           }
          ],
          "scatterternary": [
           {
            "marker": {
             "colorbar": {
              "outlinewidth": 0,
              "ticks": ""
             }
            },
            "type": "scatterternary"
           }
          ],
          "surface": [
           {
            "colorbar": {
             "outlinewidth": 0,
             "ticks": ""
            },
            "colorscale": [
             [
              0,
              "#0d0887"
             ],
             [
              0.1111111111111111,
              "#46039f"
             ],
             [
              0.2222222222222222,
              "#7201a8"
             ],
             [
              0.3333333333333333,
              "#9c179e"
             ],
             [
              0.4444444444444444,
              "#bd3786"
             ],
             [
              0.5555555555555556,
              "#d8576b"
             ],
             [
              0.6666666666666666,
              "#ed7953"
             ],
             [
              0.7777777777777778,
              "#fb9f3a"
             ],
             [
              0.8888888888888888,
              "#fdca26"
             ],
             [
              1,
              "#f0f921"
             ]
            ],
            "type": "surface"
           }
          ],
          "table": [
           {
            "cells": {
             "fill": {
              "color": "#506784"
             },
             "line": {
              "color": "rgb(17,17,17)"
             }
            },
            "header": {
             "fill": {
              "color": "#2a3f5f"
             },
             "line": {
              "color": "rgb(17,17,17)"
             }
            },
            "type": "table"
           }
          ]
         },
         "layout": {
          "annotationdefaults": {
           "arrowcolor": "#f2f5fa",
           "arrowhead": 0,
           "arrowwidth": 1
          },
          "autotypenumbers": "strict",
          "coloraxis": {
           "colorbar": {
            "outlinewidth": 0,
            "ticks": ""
           }
          },
          "colorscale": {
           "diverging": [
            [
             0,
             "#8e0152"
            ],
            [
             0.1,
             "#c51b7d"
            ],
            [
             0.2,
             "#de77ae"
            ],
            [
             0.3,
             "#f1b6da"
            ],
            [
             0.4,
             "#fde0ef"
            ],
            [
             0.5,
             "#f7f7f7"
            ],
            [
             0.6,
             "#e6f5d0"
            ],
            [
             0.7,
             "#b8e186"
            ],
            [
             0.8,
             "#7fbc41"
            ],
            [
             0.9,
             "#4d9221"
            ],
            [
             1,
             "#276419"
            ]
           ],
           "sequential": [
            [
             0,
             "#0d0887"
            ],
            [
             0.1111111111111111,
             "#46039f"
            ],
            [
             0.2222222222222222,
             "#7201a8"
            ],
            [
             0.3333333333333333,
             "#9c179e"
            ],
            [
             0.4444444444444444,
             "#bd3786"
            ],
            [
             0.5555555555555556,
             "#d8576b"
            ],
            [
             0.6666666666666666,
             "#ed7953"
            ],
            [
             0.7777777777777778,
             "#fb9f3a"
            ],
            [
             0.8888888888888888,
             "#fdca26"
            ],
            [
             1,
             "#f0f921"
            ]
           ],
           "sequentialminus": [
            [
             0,
             "#0d0887"
            ],
            [
             0.1111111111111111,
             "#46039f"
            ],
            [
             0.2222222222222222,
             "#7201a8"
            ],
            [
             0.3333333333333333,
             "#9c179e"
            ],
            [
             0.4444444444444444,
             "#bd3786"
            ],
            [
             0.5555555555555556,
             "#d8576b"
            ],
            [
             0.6666666666666666,
             "#ed7953"
            ],
            [
             0.7777777777777778,
             "#fb9f3a"
            ],
            [
             0.8888888888888888,
             "#fdca26"
            ],
            [
             1,
             "#f0f921"
            ]
           ]
          },
          "colorway": [
           "#636efa",
           "#EF553B",
           "#00cc96",
           "#ab63fa",
           "#FFA15A",
           "#19d3f3",
           "#FF6692",
           "#B6E880",
           "#FF97FF",
           "#FECB52"
          ],
          "font": {
           "color": "#f2f5fa"
          },
          "geo": {
           "bgcolor": "rgb(17,17,17)",
           "lakecolor": "rgb(17,17,17)",
           "landcolor": "rgb(17,17,17)",
           "showlakes": true,
           "showland": true,
           "subunitcolor": "#506784"
          },
          "hoverlabel": {
           "align": "left"
          },
          "hovermode": "closest",
          "mapbox": {
           "style": "dark"
          },
          "paper_bgcolor": "rgb(17,17,17)",
          "plot_bgcolor": "rgb(17,17,17)",
          "polar": {
           "angularaxis": {
            "gridcolor": "#506784",
            "linecolor": "#506784",
            "ticks": ""
           },
           "bgcolor": "rgb(17,17,17)",
           "radialaxis": {
            "gridcolor": "#506784",
            "linecolor": "#506784",
            "ticks": ""
           }
          },
          "scene": {
           "xaxis": {
            "backgroundcolor": "rgb(17,17,17)",
            "gridcolor": "#506784",
            "gridwidth": 2,
            "linecolor": "#506784",
            "showbackground": true,
            "ticks": "",
            "zerolinecolor": "#C8D4E3"
           },
           "yaxis": {
            "backgroundcolor": "rgb(17,17,17)",
            "gridcolor": "#506784",
            "gridwidth": 2,
            "linecolor": "#506784",
            "showbackground": true,
            "ticks": "",
            "zerolinecolor": "#C8D4E3"
           },
           "zaxis": {
            "backgroundcolor": "rgb(17,17,17)",
            "gridcolor": "#506784",
            "gridwidth": 2,
            "linecolor": "#506784",
            "showbackground": true,
            "ticks": "",
            "zerolinecolor": "#C8D4E3"
           }
          },
          "shapedefaults": {
           "line": {
            "color": "#f2f5fa"
           }
          },
          "sliderdefaults": {
           "bgcolor": "#C8D4E3",
           "bordercolor": "rgb(17,17,17)",
           "borderwidth": 1,
           "tickwidth": 0
          },
          "ternary": {
           "aaxis": {
            "gridcolor": "#506784",
            "linecolor": "#506784",
            "ticks": ""
           },
           "baxis": {
            "gridcolor": "#506784",
            "linecolor": "#506784",
            "ticks": ""
           },
           "bgcolor": "rgb(17,17,17)",
           "caxis": {
            "gridcolor": "#506784",
            "linecolor": "#506784",
            "ticks": ""
           }
          },
          "title": {
           "x": 0.05
          },
          "updatemenudefaults": {
           "bgcolor": "#506784",
           "borderwidth": 0
          },
          "xaxis": {
           "automargin": true,
           "gridcolor": "#283442",
           "linecolor": "#506784",
           "ticks": "",
           "title": {
            "standoff": 15
           },
           "zerolinecolor": "#283442",
           "zerolinewidth": 2
          },
          "yaxis": {
           "automargin": true,
           "gridcolor": "#283442",
           "linecolor": "#506784",
           "ticks": "",
           "title": {
            "standoff": 15
           },
           "zerolinecolor": "#283442",
           "zerolinewidth": 2
          }
         }
        },
        "title": {
         "font": {
          "family": "Proxima Nova"
         },
         "text": "Carbon Offsetting by Carbon Neutral Certified Companies (N=325)"
        },
        "xaxis": {
         "anchor": "y",
         "domain": [
          0,
          1
         ],
         "title": {
          "text": "tons CO₂ offset (2022)"
         },
         "type": "log"
        },
        "yaxis": {
         "anchor": "x",
         "domain": [
          0,
          1
         ],
         "title": {
          "text": "$ / ton"
         }
        }
       }
      }
     },
     "metadata": {},
     "output_type": "display_data"
    }
   ],
   "source": [
    "median = df.price_per_ton.median()\n",
    "fig = px.scatter(\n",
    "  df,\n",
    "  x=\"total_offsets_tons_co2\",\n",
    "  y=\"price_per_ton\",\n",
    "  title=f\"Carbon Offsetting by Carbon Neutral Certified Companies (N={len(df)})\",\n",
    "  labels={\"price_per_ton\": \"$ / ton\", \"total_offsets_tons_co2\": \"tons CO₂ offset (2022)\"},\n",
    "  log_x=True,\n",
    "  template=\"plotly_dark\",\n",
    "  hover_data=[\"name\"]\n",
    ")\n",
    "fig.add_hline(y=median, line_width=1, line_dash=\"dash\", line_color=\"white\", label=dict(text=\"median price\", textposition=\"top right\"))\n",
    "fig.update_layout(\n",
    "  font_family=\"Proxima Nova\",\n",
    "  title_font_family=\"Proxima Nova\",\n",
    ")\n",
    "fig.show()"
   ]
  },
  {
   "cell_type": "code",
   "execution_count": 4,
   "metadata": {},
   "outputs": [
    {
     "data": {
      "text/plain": [
       "1417663.0"
      ]
     },
     "execution_count": 4,
     "metadata": {},
     "output_type": "execute_result"
    }
   ],
   "source": [
    "df.total_offsets_tons_co2.sum()"
   ]
  },
  {
   "cell_type": "code",
   "execution_count": 5,
   "metadata": {},
   "outputs": [
    {
     "data": {
      "text/html": [
       "<div>\n",
       "<style scoped>\n",
       "    .dataframe tbody tr th:only-of-type {\n",
       "        vertical-align: middle;\n",
       "    }\n",
       "\n",
       "    .dataframe tbody tr th {\n",
       "        vertical-align: top;\n",
       "    }\n",
       "\n",
       "    .dataframe thead th {\n",
       "        text-align: right;\n",
       "    }\n",
       "</style>\n",
       "<table border=\"1\" class=\"dataframe\">\n",
       "  <thead>\n",
       "    <tr style=\"text-align: right;\">\n",
       "      <th></th>\n",
       "      <th>name</th>\n",
       "      <th>url</th>\n",
       "      <th>scope_1</th>\n",
       "      <th>scope_2</th>\n",
       "      <th>scope_3</th>\n",
       "      <th>total_offset_expenditure</th>\n",
       "      <th>total_offsets_tons_co2</th>\n",
       "      <th>price_per_ton</th>\n",
       "    </tr>\n",
       "  </thead>\n",
       "  <tbody>\n",
       "    <tr>\n",
       "      <th>0</th>\n",
       "      <td>5DayDeal</td>\n",
       "      <td>https://www.climateneutral.org/brand/5daydeal</td>\n",
       "      <td>0.0</td>\n",
       "      <td>73.0</td>\n",
       "      <td>132.0</td>\n",
       "      <td>2682.10</td>\n",
       "      <td>206.0</td>\n",
       "      <td>13.019903</td>\n",
       "    </tr>\n",
       "    <tr>\n",
       "      <th>1</th>\n",
       "      <td>686</td>\n",
       "      <td>https://www.climateneutral.org/brand/686</td>\n",
       "      <td>2.0</td>\n",
       "      <td>5.0</td>\n",
       "      <td>27282.0</td>\n",
       "      <td>90057.00</td>\n",
       "      <td>27290.0</td>\n",
       "      <td>3.300000</td>\n",
       "    </tr>\n",
       "    <tr>\n",
       "      <th>2</th>\n",
       "      <td>Acumatica</td>\n",
       "      <td>https://www.climateneutral.org/brand/acumatica</td>\n",
       "      <td>65.0</td>\n",
       "      <td>53.0</td>\n",
       "      <td>1620.0</td>\n",
       "      <td>29515.00</td>\n",
       "      <td>2780.0</td>\n",
       "      <td>10.616906</td>\n",
       "    </tr>\n",
       "    <tr>\n",
       "      <th>3</th>\n",
       "      <td>Adanac Tech</td>\n",
       "      <td>https://www.climateneutral.org/brand/adanactech</td>\n",
       "      <td>1.0</td>\n",
       "      <td>11.0</td>\n",
       "      <td>13.0</td>\n",
       "      <td>200.00</td>\n",
       "      <td>25.0</td>\n",
       "      <td>8.000000</td>\n",
       "    </tr>\n",
       "    <tr>\n",
       "      <th>4</th>\n",
       "      <td>AdMixt</td>\n",
       "      <td>https://www.climateneutral.org/brand/admixt</td>\n",
       "      <td>21.0</td>\n",
       "      <td>73.0</td>\n",
       "      <td>56.0</td>\n",
       "      <td>1692.50</td>\n",
       "      <td>151.0</td>\n",
       "      <td>11.208609</td>\n",
       "    </tr>\n",
       "    <tr>\n",
       "      <th>...</th>\n",
       "      <td>...</td>\n",
       "      <td>...</td>\n",
       "      <td>...</td>\n",
       "      <td>...</td>\n",
       "      <td>...</td>\n",
       "      <td>...</td>\n",
       "      <td>...</td>\n",
       "      <td>...</td>\n",
       "    </tr>\n",
       "    <tr>\n",
       "      <th>320</th>\n",
       "      <td>XCoSports</td>\n",
       "      <td>https://www.climateneutral.org/brand/xcosports</td>\n",
       "      <td>67.0</td>\n",
       "      <td>0.0</td>\n",
       "      <td>766.0</td>\n",
       "      <td>6664.00</td>\n",
       "      <td>833.0</td>\n",
       "      <td>8.000000</td>\n",
       "    </tr>\n",
       "    <tr>\n",
       "      <th>321</th>\n",
       "      <td>YAMA Mountain Gear</td>\n",
       "      <td>https://www.climateneutral.org/brand/yama-moun...</td>\n",
       "      <td>1.0</td>\n",
       "      <td>6.0</td>\n",
       "      <td>28.0</td>\n",
       "      <td>442.00</td>\n",
       "      <td>35.0</td>\n",
       "      <td>12.628571</td>\n",
       "    </tr>\n",
       "    <tr>\n",
       "      <th>322</th>\n",
       "      <td>zkipster</td>\n",
       "      <td>https://www.climateneutral.org/brand/zkipster</td>\n",
       "      <td>7.0</td>\n",
       "      <td>1.0</td>\n",
       "      <td>253.0</td>\n",
       "      <td>3120.00</td>\n",
       "      <td>260.0</td>\n",
       "      <td>12.000000</td>\n",
       "    </tr>\n",
       "    <tr>\n",
       "      <th>323</th>\n",
       "      <td>Zuar</td>\n",
       "      <td>https://www.climateneutral.org/brand/zuar</td>\n",
       "      <td>7.0</td>\n",
       "      <td>89.0</td>\n",
       "      <td>340.0</td>\n",
       "      <td>3153.75</td>\n",
       "      <td>435.0</td>\n",
       "      <td>7.250000</td>\n",
       "    </tr>\n",
       "    <tr>\n",
       "      <th>324</th>\n",
       "      <td>Zusa</td>\n",
       "      <td>https://www.climateneutral.org/brand/zusa</td>\n",
       "      <td>0.0</td>\n",
       "      <td>0.0</td>\n",
       "      <td>123.0</td>\n",
       "      <td>988.90</td>\n",
       "      <td>124.0</td>\n",
       "      <td>7.975000</td>\n",
       "    </tr>\n",
       "  </tbody>\n",
       "</table>\n",
       "<p>325 rows × 8 columns</p>\n",
       "</div>"
      ],
      "text/plain": [
       "                   name                                                url  \\\n",
       "0              5DayDeal      https://www.climateneutral.org/brand/5daydeal   \n",
       "1                   686           https://www.climateneutral.org/brand/686   \n",
       "2             Acumatica     https://www.climateneutral.org/brand/acumatica   \n",
       "3           Adanac Tech    https://www.climateneutral.org/brand/adanactech   \n",
       "4                AdMixt        https://www.climateneutral.org/brand/admixt   \n",
       "..                  ...                                                ...   \n",
       "320           XCoSports     https://www.climateneutral.org/brand/xcosports   \n",
       "321  YAMA Mountain Gear  https://www.climateneutral.org/brand/yama-moun...   \n",
       "322            zkipster      https://www.climateneutral.org/brand/zkipster   \n",
       "323                Zuar          https://www.climateneutral.org/brand/zuar   \n",
       "324                Zusa          https://www.climateneutral.org/brand/zusa   \n",
       "\n",
       "     scope_1  scope_2  scope_3  total_offset_expenditure  \\\n",
       "0        0.0     73.0    132.0                   2682.10   \n",
       "1        2.0      5.0  27282.0                  90057.00   \n",
       "2       65.0     53.0   1620.0                  29515.00   \n",
       "3        1.0     11.0     13.0                    200.00   \n",
       "4       21.0     73.0     56.0                   1692.50   \n",
       "..       ...      ...      ...                       ...   \n",
       "320     67.0      0.0    766.0                   6664.00   \n",
       "321      1.0      6.0     28.0                    442.00   \n",
       "322      7.0      1.0    253.0                   3120.00   \n",
       "323      7.0     89.0    340.0                   3153.75   \n",
       "324      0.0      0.0    123.0                    988.90   \n",
       "\n",
       "     total_offsets_tons_co2  price_per_ton  \n",
       "0                     206.0      13.019903  \n",
       "1                   27290.0       3.300000  \n",
       "2                    2780.0      10.616906  \n",
       "3                      25.0       8.000000  \n",
       "4                     151.0      11.208609  \n",
       "..                      ...            ...  \n",
       "320                   833.0       8.000000  \n",
       "321                    35.0      12.628571  \n",
       "322                   260.0      12.000000  \n",
       "323                   435.0       7.250000  \n",
       "324                   124.0       7.975000  \n",
       "\n",
       "[325 rows x 8 columns]"
      ]
     },
     "execution_count": 5,
     "metadata": {},
     "output_type": "execute_result"
    }
   ],
   "source": [
    "df"
   ]
  },
  {
   "cell_type": "code",
   "execution_count": 11,
   "metadata": {},
   "outputs": [],
   "source": [
    "# Write a JSON file:\n",
    "output = []\n",
    "\n",
    "for i in range(len(df)):\n",
    "  output.append(df.iloc[i].to_dict())\n",
    "\n",
    "with open(\"data/results_326.json\", \"w\") as f:\n",
    "  json.dump(output, f, indent=2)"
   ]
  },
  {
   "cell_type": "code",
   "execution_count": null,
   "metadata": {},
   "outputs": [],
   "source": []
  }
 ],
 "metadata": {
  "kernelspec": {
   "display_name": "backend-855tGQey",
   "language": "python",
   "name": "python3"
  },
  "language_info": {
   "codemirror_mode": {
    "name": "ipython",
    "version": 3
   },
   "file_extension": ".py",
   "mimetype": "text/x-python",
   "name": "python",
   "nbconvert_exporter": "python",
   "pygments_lexer": "ipython3",
   "version": "3.11.5"
  }
 },
 "nbformat": 4,
 "nbformat_minor": 2
}
